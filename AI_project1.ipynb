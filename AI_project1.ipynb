{
  "cells": [
    {
      "cell_type": "code",
      "execution_count": 1,
      "id": "a8671afd",
      "metadata": {
        "id": "a8671afd"
      },
      "outputs": [],
      "source": [
        "import csv\n",
        "import pandas as pd\n",
        "import numpy\n",
        "import math\n",
        "from heapq import heappush, heappop\n",
        "import collections\n"
      ]
    },
    {
      "cell_type": "code",
      "source": [
        "from google.colab import drive\n",
        "drive.mount('/content/drive')"
      ],
      "metadata": {
        "colab": {
          "base_uri": "https://localhost:8080/"
        },
        "id": "2Jjn8FUaVKg9",
        "outputId": "a7d91f28-70d1-48d4-c6cc-4a928aab6ea9"
      },
      "id": "2Jjn8FUaVKg9",
      "execution_count": 2,
      "outputs": [
        {
          "output_type": "stream",
          "name": "stdout",
          "text": [
            "Mounted at /content/drive\n"
          ]
        }
      ]
    },
    {
      "cell_type": "code",
      "execution_count": 3,
      "id": "0373e7ac",
      "metadata": {
        "id": "0373e7ac"
      },
      "outputs": [],
      "source": [
        "filename = \"100 nodes-1.csv\""
      ]
    },
    {
      "cell_type": "code",
      "source": [
        "%cd /content/drive/MyDrive/Colab Notebooks/AI_project\n"
      ],
      "metadata": {
        "colab": {
          "base_uri": "https://localhost:8080/"
        },
        "id": "I8fNAO9rWZWZ",
        "outputId": "bc9a16b3-e96c-4ec6-dc0c-23b5f7a9095d"
      },
      "id": "I8fNAO9rWZWZ",
      "execution_count": 4,
      "outputs": [
        {
          "output_type": "stream",
          "name": "stdout",
          "text": [
            "/content/drive/MyDrive/Colab Notebooks/AI_project\n"
          ]
        }
      ]
    },
    {
      "cell_type": "code",
      "execution_count": 5,
      "id": "70bd72a4",
      "metadata": {
        "colab": {
          "base_uri": "https://localhost:8080/",
          "height": 236
        },
        "id": "70bd72a4",
        "outputId": "ab25a76d-1eaa-4958-a9be-c8467bcde49b"
      },
      "outputs": [
        {
          "output_type": "execute_result",
          "data": {
            "text/plain": [
              "   Unnamed: 0   x  y  0  1  2   3  4  5  6  ...  90  91  92  93  94  95  96  \\\n",
              "0           0   0  0  0  7  0   0  0  0  0  ...   0   0   0   0   0   0   0   \n",
              "1           1  10  0  0  0  8   0  0  0  0  ...   0   0   0   0   0   0   0   \n",
              "2           2  20  0  0  6  0   0  0  0  0  ...   0   0   0   0   0   0   0   \n",
              "3           3  30  0  0  0  0   0  8  0  0  ...   0   0   0   0   0   0   0   \n",
              "4           4  40  0  0  0  0  10  0  0  0  ...   0   0   0   0   0   0   0   \n",
              "\n",
              "   97  98  99  \n",
              "0   0   0   0  \n",
              "1   0   0   0  \n",
              "2   0   0   0  \n",
              "3   0   0   0  \n",
              "4   0   0   0  \n",
              "\n",
              "[5 rows x 103 columns]"
            ],
            "text/html": [
              "\n",
              "  <div id=\"df-9c496b90-10b2-445a-a07e-69391071912c\">\n",
              "    <div class=\"colab-df-container\">\n",
              "      <div>\n",
              "<style scoped>\n",
              "    .dataframe tbody tr th:only-of-type {\n",
              "        vertical-align: middle;\n",
              "    }\n",
              "\n",
              "    .dataframe tbody tr th {\n",
              "        vertical-align: top;\n",
              "    }\n",
              "\n",
              "    .dataframe thead th {\n",
              "        text-align: right;\n",
              "    }\n",
              "</style>\n",
              "<table border=\"1\" class=\"dataframe\">\n",
              "  <thead>\n",
              "    <tr style=\"text-align: right;\">\n",
              "      <th></th>\n",
              "      <th>Unnamed: 0</th>\n",
              "      <th>x</th>\n",
              "      <th>y</th>\n",
              "      <th>0</th>\n",
              "      <th>1</th>\n",
              "      <th>2</th>\n",
              "      <th>3</th>\n",
              "      <th>4</th>\n",
              "      <th>5</th>\n",
              "      <th>6</th>\n",
              "      <th>...</th>\n",
              "      <th>90</th>\n",
              "      <th>91</th>\n",
              "      <th>92</th>\n",
              "      <th>93</th>\n",
              "      <th>94</th>\n",
              "      <th>95</th>\n",
              "      <th>96</th>\n",
              "      <th>97</th>\n",
              "      <th>98</th>\n",
              "      <th>99</th>\n",
              "    </tr>\n",
              "  </thead>\n",
              "  <tbody>\n",
              "    <tr>\n",
              "      <th>0</th>\n",
              "      <td>0</td>\n",
              "      <td>0</td>\n",
              "      <td>0</td>\n",
              "      <td>0</td>\n",
              "      <td>7</td>\n",
              "      <td>0</td>\n",
              "      <td>0</td>\n",
              "      <td>0</td>\n",
              "      <td>0</td>\n",
              "      <td>0</td>\n",
              "      <td>...</td>\n",
              "      <td>0</td>\n",
              "      <td>0</td>\n",
              "      <td>0</td>\n",
              "      <td>0</td>\n",
              "      <td>0</td>\n",
              "      <td>0</td>\n",
              "      <td>0</td>\n",
              "      <td>0</td>\n",
              "      <td>0</td>\n",
              "      <td>0</td>\n",
              "    </tr>\n",
              "    <tr>\n",
              "      <th>1</th>\n",
              "      <td>1</td>\n",
              "      <td>10</td>\n",
              "      <td>0</td>\n",
              "      <td>0</td>\n",
              "      <td>0</td>\n",
              "      <td>8</td>\n",
              "      <td>0</td>\n",
              "      <td>0</td>\n",
              "      <td>0</td>\n",
              "      <td>0</td>\n",
              "      <td>...</td>\n",
              "      <td>0</td>\n",
              "      <td>0</td>\n",
              "      <td>0</td>\n",
              "      <td>0</td>\n",
              "      <td>0</td>\n",
              "      <td>0</td>\n",
              "      <td>0</td>\n",
              "      <td>0</td>\n",
              "      <td>0</td>\n",
              "      <td>0</td>\n",
              "    </tr>\n",
              "    <tr>\n",
              "      <th>2</th>\n",
              "      <td>2</td>\n",
              "      <td>20</td>\n",
              "      <td>0</td>\n",
              "      <td>0</td>\n",
              "      <td>6</td>\n",
              "      <td>0</td>\n",
              "      <td>0</td>\n",
              "      <td>0</td>\n",
              "      <td>0</td>\n",
              "      <td>0</td>\n",
              "      <td>...</td>\n",
              "      <td>0</td>\n",
              "      <td>0</td>\n",
              "      <td>0</td>\n",
              "      <td>0</td>\n",
              "      <td>0</td>\n",
              "      <td>0</td>\n",
              "      <td>0</td>\n",
              "      <td>0</td>\n",
              "      <td>0</td>\n",
              "      <td>0</td>\n",
              "    </tr>\n",
              "    <tr>\n",
              "      <th>3</th>\n",
              "      <td>3</td>\n",
              "      <td>30</td>\n",
              "      <td>0</td>\n",
              "      <td>0</td>\n",
              "      <td>0</td>\n",
              "      <td>0</td>\n",
              "      <td>0</td>\n",
              "      <td>8</td>\n",
              "      <td>0</td>\n",
              "      <td>0</td>\n",
              "      <td>...</td>\n",
              "      <td>0</td>\n",
              "      <td>0</td>\n",
              "      <td>0</td>\n",
              "      <td>0</td>\n",
              "      <td>0</td>\n",
              "      <td>0</td>\n",
              "      <td>0</td>\n",
              "      <td>0</td>\n",
              "      <td>0</td>\n",
              "      <td>0</td>\n",
              "    </tr>\n",
              "    <tr>\n",
              "      <th>4</th>\n",
              "      <td>4</td>\n",
              "      <td>40</td>\n",
              "      <td>0</td>\n",
              "      <td>0</td>\n",
              "      <td>0</td>\n",
              "      <td>0</td>\n",
              "      <td>10</td>\n",
              "      <td>0</td>\n",
              "      <td>0</td>\n",
              "      <td>0</td>\n",
              "      <td>...</td>\n",
              "      <td>0</td>\n",
              "      <td>0</td>\n",
              "      <td>0</td>\n",
              "      <td>0</td>\n",
              "      <td>0</td>\n",
              "      <td>0</td>\n",
              "      <td>0</td>\n",
              "      <td>0</td>\n",
              "      <td>0</td>\n",
              "      <td>0</td>\n",
              "    </tr>\n",
              "  </tbody>\n",
              "</table>\n",
              "<p>5 rows × 103 columns</p>\n",
              "</div>\n",
              "      <button class=\"colab-df-convert\" onclick=\"convertToInteractive('df-9c496b90-10b2-445a-a07e-69391071912c')\"\n",
              "              title=\"Convert this dataframe to an interactive table.\"\n",
              "              style=\"display:none;\">\n",
              "        \n",
              "  <svg xmlns=\"http://www.w3.org/2000/svg\" height=\"24px\"viewBox=\"0 0 24 24\"\n",
              "       width=\"24px\">\n",
              "    <path d=\"M0 0h24v24H0V0z\" fill=\"none\"/>\n",
              "    <path d=\"M18.56 5.44l.94 2.06.94-2.06 2.06-.94-2.06-.94-.94-2.06-.94 2.06-2.06.94zm-11 1L8.5 8.5l.94-2.06 2.06-.94-2.06-.94L8.5 2.5l-.94 2.06-2.06.94zm10 10l.94 2.06.94-2.06 2.06-.94-2.06-.94-.94-2.06-.94 2.06-2.06.94z\"/><path d=\"M17.41 7.96l-1.37-1.37c-.4-.4-.92-.59-1.43-.59-.52 0-1.04.2-1.43.59L10.3 9.45l-7.72 7.72c-.78.78-.78 2.05 0 2.83L4 21.41c.39.39.9.59 1.41.59.51 0 1.02-.2 1.41-.59l7.78-7.78 2.81-2.81c.8-.78.8-2.07 0-2.86zM5.41 20L4 18.59l7.72-7.72 1.47 1.35L5.41 20z\"/>\n",
              "  </svg>\n",
              "      </button>\n",
              "      \n",
              "  <style>\n",
              "    .colab-df-container {\n",
              "      display:flex;\n",
              "      flex-wrap:wrap;\n",
              "      gap: 12px;\n",
              "    }\n",
              "\n",
              "    .colab-df-convert {\n",
              "      background-color: #E8F0FE;\n",
              "      border: none;\n",
              "      border-radius: 50%;\n",
              "      cursor: pointer;\n",
              "      display: none;\n",
              "      fill: #1967D2;\n",
              "      height: 32px;\n",
              "      padding: 0 0 0 0;\n",
              "      width: 32px;\n",
              "    }\n",
              "\n",
              "    .colab-df-convert:hover {\n",
              "      background-color: #E2EBFA;\n",
              "      box-shadow: 0px 1px 2px rgba(60, 64, 67, 0.3), 0px 1px 3px 1px rgba(60, 64, 67, 0.15);\n",
              "      fill: #174EA6;\n",
              "    }\n",
              "\n",
              "    [theme=dark] .colab-df-convert {\n",
              "      background-color: #3B4455;\n",
              "      fill: #D2E3FC;\n",
              "    }\n",
              "\n",
              "    [theme=dark] .colab-df-convert:hover {\n",
              "      background-color: #434B5C;\n",
              "      box-shadow: 0px 1px 3px 1px rgba(0, 0, 0, 0.15);\n",
              "      filter: drop-shadow(0px 1px 2px rgba(0, 0, 0, 0.3));\n",
              "      fill: #FFFFFF;\n",
              "    }\n",
              "  </style>\n",
              "\n",
              "      <script>\n",
              "        const buttonEl =\n",
              "          document.querySelector('#df-9c496b90-10b2-445a-a07e-69391071912c button.colab-df-convert');\n",
              "        buttonEl.style.display =\n",
              "          google.colab.kernel.accessAllowed ? 'block' : 'none';\n",
              "\n",
              "        async function convertToInteractive(key) {\n",
              "          const element = document.querySelector('#df-9c496b90-10b2-445a-a07e-69391071912c');\n",
              "          const dataTable =\n",
              "            await google.colab.kernel.invokeFunction('convertToInteractive',\n",
              "                                                     [key], {});\n",
              "          if (!dataTable) return;\n",
              "\n",
              "          const docLinkHtml = 'Like what you see? Visit the ' +\n",
              "            '<a target=\"_blank\" href=https://colab.research.google.com/notebooks/data_table.ipynb>data table notebook</a>'\n",
              "            + ' to learn more about interactive tables.';\n",
              "          element.innerHTML = '';\n",
              "          dataTable['output_type'] = 'display_data';\n",
              "          await google.colab.output.renderOutput(dataTable, element);\n",
              "          const docLink = document.createElement('div');\n",
              "          docLink.innerHTML = docLinkHtml;\n",
              "          element.appendChild(docLink);\n",
              "        }\n",
              "      </script>\n",
              "    </div>\n",
              "  </div>\n",
              "  "
            ]
          },
          "metadata": {},
          "execution_count": 5
        }
      ],
      "source": [
        "with open(filename) as csvfile:\n",
        "    csvreader = csv.DictReader(csvfile,delimiter=',')\n",
        "\n",
        "df = pd.read_csv(filename)\n",
        "df[:5]"
      ]
    },
    {
      "cell_type": "code",
      "source": [
        "\n",
        "\n",
        "class Node:\n",
        "    def __init__(self, state, parent=None, g_cost=0, h_cost=0 , f_cost=0):\n",
        "        self.state   = state\n",
        "        if state >= 0 and state < len(df):\n",
        "            self.x = df.iloc[state,1]\n",
        "            self.y = df.iloc[state,2]\n",
        "        self.parent = parent\n",
        "        self.g_cost = g_cost\n",
        "        self.h_cost = h_cost\n",
        "        self.f_cost = f_cost\n",
        "        \n",
        "\n",
        "    def __lt__(self, other):\n",
        "        return self.f_cost < other.f_cost\n",
        "\n",
        "    def __repr__(self):\n",
        "        return str(self.state)"
      ],
      "metadata": {
        "id": "qwFatyifAzwM"
      },
      "id": "qwFatyifAzwM",
      "execution_count": 9,
      "outputs": []
    },
    {
      "cell_type": "code",
      "source": [
        "def H_cost(current_node, goal_node):\n",
        "    if current_node.state >= len(df) or goal_node.state >= len(df):\n",
        "        return 0\n",
        "    # Calculate the Euclidean distance between the current node and the goal node\n",
        "    h_cost = (abs(current_node.x - goal_node.x) + abs(current_node.y - goal_node.y))  \n",
        "    return h_cost\n",
        "\n",
        "def F_cost(current_node, goal_node, weight):\n",
        "    return (current_node.g_cost * weight) + (H_cost(current_node, goal_node) * (1 - weight))\n",
        "\n"
      ],
      "metadata": {
        "id": "JKkRjfTYEiQw"
      },
      "id": "JKkRjfTYEiQw",
      "execution_count": 10,
      "outputs": []
    },
    {
      "cell_type": "code",
      "source": [
        "def A_star(start, goal, weight):\n",
        "    open_set = []\n",
        "    closed_set = []\n",
        "    start_node = Node(start)\n",
        "    goal_node = Node(goal)\n",
        "    heappush(open_set, start_node)\n",
        "    min_f_cost = float(\"inf\")\n",
        "    max_iterations = 1000\n",
        "    iteration = 0\n",
        "\n",
        "    while open_set and iteration < max_iterations:\n",
        "          #print(\"Open set:\", [node.state for node in open_set])\n",
        "          current_node = min(open_set, key=lambda x: x.f_cost)  # get the node with the lowest f_cost\n",
        "          #print(\"Current node:\", current_node.state)\n",
        "          if current_node.state == goal:\n",
        "              return get_path(current_node), current_node.g_cost\n",
        "\n",
        "          open_set.remove(current_node)  # remove the node from the open_set\n",
        "          closed_set.append(current_node.state)\n",
        "          #print(\"Closed set:\", closed_set)\n",
        "\n",
        "          for neighbor in get_neighbors(current_node.state, current_node, closed_set):\n",
        "              if neighbor in closed_set:\n",
        "                  continue\n",
        "\n",
        "              neighbor.g_cost = current_node.g_cost + df.iloc[current_node.state,neighbor.state + 3]\n",
        "              neighbor.h_cost = H_cost(neighbor, goal_node)\n",
        "              neighbor.f_cost = F_cost(neighbor, goal_node, weight)\n",
        "              neighbor_node = neighbor\n",
        "\n",
        "              for node in open_set:\n",
        "                  if node.state == neighbor.state and node.f_cost > neighbor.f_cost:\n",
        "                      node.f_cost = neighbor.f_cost\n",
        "                      node.g_cost = neighbor.g_cost\n",
        "                      node.h_cost = neighbor.h_cost\n",
        "                      node.parent = neighbor.parent\n",
        "                      break\n",
        "              else:\n",
        "                  heappush(open_set, neighbor)\n",
        "\n",
        "              iteration += 1\n",
        "              if iteration == max_iterations:\n",
        "                 return \"There is no path\", 0\n",
        "\n",
        "\n",
        "    # return \"There is no path\", 0\n",
        "\n",
        "def get_neighbors(state, parent, closed_set):\n",
        "    neighbors = [state+1, state-1, state+10, state-10]\n",
        "    new_neighbors = []\n",
        "    for i in neighbors:\n",
        "        if i >= 0 and i < 100 and df.iloc[state,i + 3] != 0: #and i not in closed_set:\n",
        "            new_neighbors.append(Node(i, parent=parent))\n",
        "    return new_neighbors\n",
        "\n",
        "\n",
        "\n"
      ],
      "metadata": {
        "id": "fl-OrZIwR1e5"
      },
      "id": "fl-OrZIwR1e5",
      "execution_count": 66,
      "outputs": []
    },
    {
      "cell_type": "code",
      "source": [
        "def get_path(node):\n",
        "    path = []\n",
        "    current = node\n",
        "    while current is not None:\n",
        "        path.append(current.state)\n",
        "        current = current.parent\n",
        "\n",
        "    return path[::-1]"
      ],
      "metadata": {
        "id": "mgaKi3ckJ8jY"
      },
      "id": "mgaKi3ckJ8jY",
      "execution_count": 50,
      "outputs": []
    },
    {
      "cell_type": "code",
      "source": [
        "start = 0\n",
        "goal = 19\n",
        "weight = 0.5\n",
        "\n",
        "path, cost = A_star(start, goal, weight)\n",
        "\n",
        "print(path,cost,len(path))"
      ],
      "metadata": {
        "colab": {
          "base_uri": "https://localhost:8080/"
        },
        "id": "WWW1r4KQJ72r",
        "outputId": "f5d44528-d5d3-4c09-84aa-e633fa85789c"
      },
      "id": "WWW1r4KQJ72r",
      "execution_count": 51,
      "outputs": [
        {
          "output_type": "stream",
          "name": "stdout",
          "text": [
            "[0, 10, 11, 12, 13, 14, 24, 25, 15, 16, 17, 18, 19] 95 13\n"
          ]
        }
      ]
    },
    {
      "cell_type": "code",
      "source": [
        "start = 0\n",
        "goal = 19\n",
        "weight = 0\n",
        "\n",
        "path, cost = A_star(start, goal, weight)\n",
        "\n",
        "print(path,cost,len(path))"
      ],
      "metadata": {
        "colab": {
          "base_uri": "https://localhost:8080/"
        },
        "id": "dfFSqJlybsCW",
        "outputId": "b9df1749-4511-4d91-a1fc-36935a35b2c4"
      },
      "id": "dfFSqJlybsCW",
      "execution_count": 52,
      "outputs": [
        {
          "output_type": "stream",
          "name": "stdout",
          "text": [
            "[0, 1, 2, 12, 13, 14, 24, 25, 15, 16, 17, 18, 19] 96 13\n"
          ]
        }
      ]
    },
    {
      "cell_type": "code",
      "source": [
        "start = 11\n",
        "goal = 97\n",
        "weight = 0.5\n",
        "\n",
        "path, cost = A_star(start, goal, weight)\n",
        "\n",
        "print(path,cost,len(path))"
      ],
      "metadata": {
        "colab": {
          "base_uri": "https://localhost:8080/"
        },
        "id": "54Le2OYVbxGz",
        "outputId": "d88bf8fb-b152-4e3b-fd90-1cb4ec079051"
      },
      "id": "54Le2OYVbxGz",
      "execution_count": 55,
      "outputs": [
        {
          "output_type": "stream",
          "name": "stdout",
          "text": [
            "[11, 21, 31, 32, 33, 34, 44, 45, 46, 56, 66, 76, 77, 87, 97] 105 15\n"
          ]
        }
      ]
    },
    {
      "cell_type": "code",
      "source": [
        "start = 11\n",
        "goal = 97\n",
        "weight = 0.25\n",
        "\n",
        "path, cost = A_star(start, goal, weight)\n",
        "\n",
        "print(path,cost,len(path))"
      ],
      "metadata": {
        "colab": {
          "base_uri": "https://localhost:8080/"
        },
        "id": "cXivDuK3eViW",
        "outputId": "e72cc35e-34d2-4954-99f4-458c9851839a"
      },
      "id": "cXivDuK3eViW",
      "execution_count": 56,
      "outputs": [
        {
          "output_type": "stream",
          "name": "stdout",
          "text": [
            "[11, 21, 31, 32, 33, 34, 44, 45, 46, 56, 66, 76, 77, 87, 97] 105 15\n"
          ]
        }
      ]
    },
    {
      "cell_type": "code",
      "source": [
        "start = 40\n",
        "goal = 49\n",
        "weight = 0.5\n",
        "\n",
        "path, cost = A_star(start, goal, weight)\n",
        "\n",
        "print(path,cost,len(path))"
      ],
      "metadata": {
        "colab": {
          "base_uri": "https://localhost:8080/"
        },
        "id": "DlJFHKxHfY9Q",
        "outputId": "cc32aeff-3d97-4d39-9f45-5469757f6fca"
      },
      "id": "DlJFHKxHfY9Q",
      "execution_count": 67,
      "outputs": [
        {
          "output_type": "stream",
          "name": "stdout",
          "text": [
            "[40, 41, 51, 52, 42, 43, 44, 45, 46, 47, 37, 38, 28, 29, 39, 49] 109 16\n"
          ]
        }
      ]
    },
    {
      "cell_type": "code",
      "source": [
        "start = 49\n",
        "goal = 40\n",
        "weight = 0.5\n",
        "\n",
        "path, cost = A_star(start, goal, weight)\n",
        "\n",
        "print(path,cost,len(path))"
      ],
      "metadata": {
        "colab": {
          "base_uri": "https://localhost:8080/"
        },
        "id": "_yZHMfzlfh6r",
        "outputId": "0419534e-9ca1-421c-b2cc-2e09e92a3231"
      },
      "id": "_yZHMfzlfh6r",
      "execution_count": 68,
      "outputs": [
        {
          "output_type": "stream",
          "name": "stdout",
          "text": [
            "[49, 59, 58, 48, 38, 37, 36, 35, 34, 33, 32, 31, 30, 40] 101 14\n"
          ]
        }
      ]
    },
    {
      "cell_type": "code",
      "source": [
        "start = 0\n",
        "goal = 99\n",
        "weight = 0.5\n",
        "\n",
        "path, cost = A_star(start, goal, weight)\n",
        "\n",
        "print(path,cost,len(path))"
      ],
      "metadata": {
        "colab": {
          "base_uri": "https://localhost:8080/"
        },
        "id": "g_-UeCpfflAG",
        "outputId": "7b3103f3-b93d-4be6-9fd6-f2e36507efe1"
      },
      "id": "g_-UeCpfflAG",
      "execution_count": 69,
      "outputs": [
        {
          "output_type": "stream",
          "name": "stdout",
          "text": [
            "There is no path 0 16\n"
          ]
        }
      ]
    },
    {
      "cell_type": "code",
      "source": [
        "start = 99\n",
        "goal = 0\n",
        "weight = 0.5\n",
        "\n",
        "path, cost = A_star(start, goal, weight)\n",
        "\n",
        "print(path,cost,len(path))"
      ],
      "metadata": {
        "colab": {
          "base_uri": "https://localhost:8080/"
        },
        "id": "jLZLFoleiNpM",
        "outputId": "37493b6a-636b-44cc-aeeb-0ca3e74d094c"
      },
      "id": "jLZLFoleiNpM",
      "execution_count": 70,
      "outputs": [
        {
          "output_type": "stream",
          "name": "stdout",
          "text": [
            "[99, 98, 97, 87, 77, 76, 75, 65, 64, 54, 53, 52, 51, 41, 40, 30, 20, 10, 0] 138 19\n"
          ]
        }
      ]
    },
    {
      "cell_type": "code",
      "source": [
        "start = 99\n",
        "goal = 0\n",
        "weight = 0.25\n",
        "\n",
        "path, cost = A_star(start, goal, weight)\n",
        "\n",
        "print(path,cost,len(path))"
      ],
      "metadata": {
        "colab": {
          "base_uri": "https://localhost:8080/"
        },
        "id": "N-CtZrYtid2L",
        "outputId": "3dd10490-db97-422a-e949-90bd8a09eb97"
      },
      "id": "N-CtZrYtid2L",
      "execution_count": 79,
      "outputs": [
        {
          "output_type": "stream",
          "name": "stdout",
          "text": [
            "[99, 98, 97, 87, 77, 76, 75, 65, 64, 54, 53, 52, 51, 41, 40, 30, 20, 10, 0] 138 19\n"
          ]
        }
      ]
    }
  ],
  "metadata": {
    "kernelspec": {
      "display_name": "Python 3 (ipykernel)",
      "language": "python",
      "name": "python3"
    },
    "language_info": {
      "codemirror_mode": {
        "name": "ipython",
        "version": 3
      },
      "file_extension": ".py",
      "mimetype": "text/x-python",
      "name": "python",
      "nbconvert_exporter": "python",
      "pygments_lexer": "ipython3",
      "version": "3.7.3"
    },
    "colab": {
      "provenance": []
    },
    "accelerator": "GPU",
    "gpuClass": "standard"
  },
  "nbformat": 4,
  "nbformat_minor": 5
}